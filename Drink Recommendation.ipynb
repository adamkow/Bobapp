{
 "cells": [
  {
   "cell_type": "code",
   "execution_count": null,
   "id": "42bbe3ab",
   "metadata": {},
   "outputs": [],
   "source": [
    "import pandas as pd\n",
    "from sklearn.feature_extraction.text import TfidfVectorizer\n",
    "from sklearn.metrics.pairwise import cosine_similarity\n",
    "\n",
    "df = pd.read_csv(\"starbucks-menu-nutrition-drinks.csv\")"
   ]
  },
  {
   "cell_type": "markdown",
   "id": "76c0a72c",
   "metadata": {},
   "source": [
    "importing libraries to read starbucks nutritional drinks menu into pandas\n",
    "tfid vectoriser used to convert the drink names into vectors\n",
    "consine similarity used to calculate cosine similarity between feature vectors\n",
    "similarity score used to recommend similar drinks"
   ]
  },
  {
   "cell_type": "code",
   "execution_count": null,
   "id": "13ce01d8",
   "metadata": {},
   "outputs": [],
   "source": [
    "df.info()"
   ]
  },
  {
   "cell_type": "markdown",
   "id": "1930b69a",
   "metadata": {},
   "source": [
    "returns following information:\n",
    "\n",
    "The total number of rows and columns in the dataframe,\n",
    "The name of each column and its data type,\n",
    "The number of non-null values in each column,\n",
    "The amount of memory used by the dataframe"
   ]
  },
  {
   "cell_type": "code",
   "execution_count": null,
   "id": "ddc9528d",
   "metadata": {},
   "outputs": [],
   "source": [
    "df.columns"
   ]
  },
  {
   "cell_type": "markdown",
   "id": "d2ade783",
   "metadata": {},
   "source": [
    "This prints a list of all the column names in the DataFrame."
   ]
  },
  {
   "cell_type": "code",
   "execution_count": null,
   "id": "0da873c9",
   "metadata": {},
   "outputs": [],
   "source": [
    "df.head(5)"
   ]
  },
  {
   "cell_type": "markdown",
   "id": "898cf333",
   "metadata": {},
   "source": [
    "This prints the first 5 rows of the DataFrame."
   ]
  },
  {
   "cell_type": "code",
   "execution_count": null,
   "id": "fd9c6dda",
   "metadata": {},
   "outputs": [],
   "source": [
    "df = df.replace('-', 0)"
   ]
  },
  {
   "cell_type": "markdown",
   "id": "a3043b64",
   "metadata": {},
   "source": [
    "This will replace all the '-' values in the DataFrame with 0."
   ]
  },
  {
   "cell_type": "code",
   "execution_count": null,
   "id": "5e787f83",
   "metadata": {},
   "outputs": [],
   "source": [
    "df['Calories'] = df['Calories'].astype(float)\n",
    "df['Fat (g)'] = df['Fat (g)'].astype(float)\n",
    "df['Carb. (g)'] = df['Carb. (g)'].astype(float)\n",
    "df['Fiber (g)'] = df['Fiber (g)'].astype(float)\n",
    "df['Protein'] = df['Protein'].astype(float)\n",
    "df['Sodium'] = df['Sodium'].astype(float)"
   ]
  },
  {
   "cell_type": "markdown",
   "id": "b3f2843f",
   "metadata": {},
   "source": [
    "This will convert the data type of each column to float."
   ]
  },
  {
   "cell_type": "code",
   "execution_count": null,
   "id": "090ab586",
   "metadata": {},
   "outputs": [],
   "source": [
    "# select only the numeric columns using select_dtypes()\n",
    "numeric_cols = df.select_dtypes(include=['float64', 'int64'])\n",
    "\n",
    "# fill missing values in numeric columns with the mean using fillna()\n",
    "numeric_cols = numeric_cols.fillna(numeric_cols.mean())\n",
    "\n",
    "# replace the original numeric columns with the filled columns in the original DataFrame\n",
    "df[numeric_cols.columns] = numeric_cols"
   ]
  },
  {
   "cell_type": "markdown",
   "id": "321e5c95",
   "metadata": {},
   "source": [
    "This will fill the missing values in the numeric columns with the mean and replace the original numeric columns with the filled columns."
   ]
  },
  {
   "cell_type": "code",
   "execution_count": null,
   "id": "b3fc15e0",
   "metadata": {},
   "outputs": [],
   "source": [
    "df.columns"
   ]
  },
  {
   "cell_type": "markdown",
   "id": "cc376fe6",
   "metadata": {},
   "source": [
    "returns a list of the column names in the DataFrame"
   ]
  },
  {
   "cell_type": "code",
   "execution_count": null,
   "id": "847cd209",
   "metadata": {},
   "outputs": [],
   "source": [
    "# calculate the mean of non-zero values\n",
    "mean_value = df[df['Calories'] != 0]['Calories'].mean()\n",
    "\n",
    "# replace 0 values with the mean using replace()\n",
    "df['Calories'] = df['Calories'].replace(0, mean_value)\n",
    "\n",
    "# calculate the mean of non-zero values\n",
    "mean_value = df[df['Fat (g)'] != 0]['Fat (g)'].mean()\n",
    "\n",
    "# replace 0 values with the mean using replace()\n",
    "df['Fat (g)'] = df['Fat (g)'].replace(0, mean_value)\n",
    "\n",
    "# calculate the mean of non-zero values\n",
    "mean_value = df[df['Carb. (g)'] != 0]['Carb. (g)'].mean()\n",
    "\n",
    "# replace 0 values with the mean using replace()\n",
    "df['Carb. (g)'] = df['Carb. (g)'].replace(0, mean_value)\n",
    "\n",
    "# calculate the mean of non-zero values\n",
    "mean_value = df[df['Fiber (g)'] != 0]['Fiber (g)'].mean()\n",
    "\n",
    "# replace 0 values with the mean using replace()\n",
    "df['Fiber (g)'] = df['Fiber (g)'].replace(0, mean_value)\n",
    "\n",
    "# calculate the mean of non-zero values\n",
    "mean_value = df[df['Protein'] != 0]['Protein'].mean()\n",
    "\n",
    "# replace 0 values with the mean using replace()\n",
    "df['Protein'] = df['Protein'].replace(0, mean_value)\n",
    "\n",
    "# calculate the mean of non-zero values\n",
    "mean_value = df[df['Sodium'] != 0]['Sodium'].mean()\n",
    "\n",
    "# replace 0 values with the mean using replace()\n",
    "df['Sodium'] = df['Sodium'].replace(0, mean_value)"
   ]
  },
  {
   "cell_type": "markdown",
   "id": "93ced414",
   "metadata": {},
   "source": [
    "This code replaces 0 values with the mean value of non-zero values in each respective column."
   ]
  },
  {
   "cell_type": "code",
   "execution_count": null,
   "id": "202a8643",
   "metadata": {},
   "outputs": [],
   "source": [
    "df.shape"
   ]
  },
  {
   "cell_type": "markdown",
   "id": "55362510",
   "metadata": {},
   "source": [
    "This returns a tuple where the first element is the number of rows and the second element is the number of columns in the DataFrame."
   ]
  },
  {
   "cell_type": "code",
   "execution_count": null,
   "id": "3b9c6060",
   "metadata": {},
   "outputs": [],
   "source": [
    "df.drop_duplicates(inplace = True)"
   ]
  },
  {
   "cell_type": "markdown",
   "id": "58cf0ead",
   "metadata": {},
   "source": [
    "This code will drop any duplicate rows in the DataFrame and modify the DataFrame in place."
   ]
  },
  {
   "cell_type": "code",
   "execution_count": null,
   "id": "9be28ab2",
   "metadata": {},
   "outputs": [],
   "source": [
    "df.shape"
   ]
  },
  {
   "cell_type": "code",
   "execution_count": null,
   "id": "53382ebb",
   "metadata": {},
   "outputs": [],
   "source": [
    "# Create feature vector for each drink\n",
    "tfidf = TfidfVectorizer(stop_words='english')\n",
    "drink_matrix = tfidf.fit_transform(df['Beverage'])"
   ]
  },
  {
   "cell_type": "markdown",
   "id": "48bcc2f5",
   "metadata": {},
   "source": [
    "Using the TfidfVectorizer class from the scikit-learn library to create a feature vector for each drink in the \"Beverage\" column.\n",
    "\n",
    "The TfidfVectorizer converts the names of the drinks into a matrix of numerical values. Which weighs each word in each word based on how oftern it appears\n",
    "\n",
    "stop words english used to clean text before vectorisation\n",
    "\n",
    "the result is a sparse matrix where most of the values are 0, because each drink name only contains a small subset of words in english"
   ]
  },
  {
   "cell_type": "code",
   "execution_count": null,
   "id": "2cdca167",
   "metadata": {},
   "outputs": [],
   "source": [
    "def recommend_drinks(inputs, n=3):\n",
    "    # Create feature vector for input drinks\n",
    "    input_matrix = tfidf.transform(inputs)\n",
    "\n",
    "    # Compute cosine similarity between input drinks and all other drinks\n",
    "    similarities = cosine_similarity(input_matrix, drink_matrix)\n",
    "\n",
    "    # Get indices of top n recommended drinks\n",
    "    indices = similarities.argsort()[0][::-1][:n]\n",
    "\n",
    "    # Exclude input drinks from the list of recommended drinks\n",
    "    recommended_drinks = [df.iloc[idx]['Beverage'] for idx in indices if df.iloc[idx]['Beverage'] not in inputs]\n",
    "\n",
    "    # Return recommended drink names\n",
    "    return recommended_drinks"
   ]
  },
  {
   "cell_type": "markdown",
   "id": "9654451c",
   "metadata": {},
   "source": [
    "This function takes in a list of input drinks and the number of recommended drinks to return (default value is 3). It uses the tfidf object and the drink_matrix created earlier to calculate cosine similarity between the input drinks and all other drinks in the dataset.\n",
    "\n",
    "The similarity scores are sorted in descending order and the indices of the top n drinks with the highest similarity scores are retrieved.\n",
    "\n",
    "Then, the function excludes the input drinks from the list of recommended drinks to ensure that the recommended drinks are different from the input drinks. Finally, it returns the names of the recommended drinks as a list."
   ]
  },
  {
   "cell_type": "code",
   "execution_count": null,
   "id": "b97f3509",
   "metadata": {
    "scrolled": true
   },
   "outputs": [],
   "source": [
    "df.Beverage.unique()"
   ]
  },
  {
   "cell_type": "markdown",
   "id": "cb73dced",
   "metadata": {},
   "source": [
    "It returns an array of unique values that appear in the 'Beverage' column. Each element of the array represents a unique drink name in the column."
   ]
  },
  {
   "cell_type": "code",
   "execution_count": null,
   "id": "4a74856b",
   "metadata": {},
   "outputs": [],
   "source": [
    "inputs = []\n",
    "num_inputs = int(input(\"How many drinks do you want to recommend? \"))\n",
    "for i in range(num_inputs):\n",
    "    drink = input(\"Enter a drink name: \")\n",
    "    inputs.append(drink)\n",
    "\n",
    "recommended_drinks = recommend_drinks(inputs)\n",
    "print(recommended_drinks)"
   ]
  },
  {
   "cell_type": "markdown",
   "id": "9891943d",
   "metadata": {},
   "source": [
    "Asks the user to input the number of drinks they want to recommend and the names of those drinks. The recommend_drinks function would then take in those drink names as input, create feature vectors for those drinks using the TfidfVectorizer, calculate cosine similarity between the input drinks and all other drinks in the dataset, and return the top recommended drinks based on their similarity to the input drinks."
   ]
  },
  {
   "cell_type": "code",
   "execution_count": null,
   "id": "e088c3ab",
   "metadata": {},
   "outputs": [],
   "source": []
  }
 ],
 "metadata": {
  "kernelspec": {
   "display_name": "Python 3 (ipykernel)",
   "language": "python",
   "name": "python3"
  },
  "language_info": {
   "codemirror_mode": {
    "name": "ipython",
    "version": 3
   },
   "file_extension": ".py",
   "mimetype": "text/x-python",
   "name": "python",
   "nbconvert_exporter": "python",
   "pygments_lexer": "ipython3",
   "version": "3.11.1"
  }
 },
 "nbformat": 4,
 "nbformat_minor": 5
}
